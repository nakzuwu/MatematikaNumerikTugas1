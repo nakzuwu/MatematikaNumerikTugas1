{
  "nbformat": 4,
  "nbformat_minor": 0,
  "metadata": {
    "colab": {
      "provenance": []
    },
    "kernelspec": {
      "name": "python3",
      "display_name": "Python 3"
    },
    "language_info": {
      "name": "python"
    }
  },
  "cells": [
    {
      "cell_type": "code",
      "execution_count": 10,
      "metadata": {
        "colab": {
          "base_uri": "https://localhost:8080/"
        },
        "id": "QeVH67vOXrrw",
        "outputId": "cf68f59b-2f66-47ea-8ee3-e61a72a24ead"
      },
      "outputs": [
        {
          "output_type": "stream",
          "name": "stdout",
          "text": [
            "Masukan Angka : 2\n",
            "Masukan Pangkat : 3\n",
            "Hasil dari  2  Pangkat  3  Adalah  8\n"
          ]
        }
      ],
      "source": [
        "def pangkat(A,B):\n",
        "    hasil = A**B\n",
        "    return  hasil\n",
        "\n",
        "A = int(input(\"Masukan Angka : \"))\n",
        "B = int(input(\"Masukan Pangkat : \"))\n",
        "hasil_pangkat = pangkat (A,B)\n",
        "print(\"Hasil dari \" ,A, \" Pangkat \" ,B, \" Adalah \" ,hasil_pangkat)\n"
      ]
    },
    {
      "cell_type": "code",
      "source": [
        "import math\n",
        "\n",
        "bilangan = [16, 25, 9, 100, 64]\n",
        "\n",
        "def hitung_akar_kuadrat (x):\n",
        "    return math.sqrt(x)\n",
        "\n",
        "for x in bilangan:\n",
        "    akar_kuadrat = hitung_akar_kuadrat(x)\n",
        "    print(f\"Akar kuadrat dari {x} adalah {akar_kuadrat}\")"
      ],
      "metadata": {
        "colab": {
          "base_uri": "https://localhost:8080/"
        },
        "id": "yhpHe679aJba",
        "outputId": "157b734a-96b0-4945-926b-3b7b4bb7e6cd"
      },
      "execution_count": 23,
      "outputs": [
        {
          "output_type": "stream",
          "name": "stdout",
          "text": [
            "Akar kuadrat dari 16 adalah 4.0\n",
            "Akar kuadrat dari 25 adalah 5.0\n",
            "Akar kuadrat dari 9 adalah 3.0\n",
            "Akar kuadrat dari 100 adalah 10.0\n",
            "Akar kuadrat dari 64 adalah 8.0\n"
          ]
        }
      ]
    },
    {
      "cell_type": "code",
      "source": [
        "import math\n",
        "\n",
        "class KalkulatorAkar:\n",
        "  def __init__(self, bilangan):\n",
        "        self.bilangan = bilangan\n",
        "\n",
        "  def hitung_akar_kuadrat (self):\n",
        "        return math.sqrt(self.bilangan)\n",
        "\n",
        "kalkulator = KalkulatorAkar (25)\n",
        "\n",
        "hasil_akar_kuadrat = kalkulator.hitung_akar_kuadrat ()\n",
        "\n",
        "print (f\"Akar kuadrat dari {kalkulator.bilangan} adalah {hasil_akar_kuadrat}\")"
      ],
      "metadata": {
        "colab": {
          "base_uri": "https://localhost:8080/"
        },
        "id": "x3nzlu5wah_o",
        "outputId": "6ad4ab1b-0366-4cdb-a7f6-521ca320c527"
      },
      "execution_count": 30,
      "outputs": [
        {
          "output_type": "stream",
          "name": "stdout",
          "text": [
            "Akar kuadrat dari 25 adalah 5.0\n"
          ]
        }
      ]
    }
  ]
}